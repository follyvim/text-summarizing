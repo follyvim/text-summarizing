{
 "cells": [
  {
   "cell_type": "code",
   "execution_count": 1,
   "id": "0e872292-19db-493b-b7e2-9053a0b2b077",
   "metadata": {},
   "outputs": [],
   "source": [
    "import spacy\n",
    "from spacy.lang.en.stop_words import STOP_WORDS\n",
    "from string import punctuation\n",
    "from heapq import nlargest\n",
    "from newspaper import Article"
   ]
  },
  {
   "cell_type": "code",
   "execution_count": 2,
   "id": "d7df6ca6-d99c-45df-91ce-e25211be2e50",
   "metadata": {},
   "outputs": [],
   "source": [
    "url = 'https://www.oxfordbibliographies.com/view/document/obo-9780199743292/obo-9780199743292-0217.xml'\n",
    "article = Article(url,language ='en')\n",
    "article.download()\n",
    "article.parse()\n",
    "article.nlp()"
   ]
  },
  {
   "cell_type": "code",
   "execution_count": 25,
   "id": "a1aaf571-0627-46ad-bf99-d8e782941ca4",
   "metadata": {},
   "outputs": [
    {
     "name": "stdout",
     "output_type": "stream",
     "text": [
      "Artilce Title :\n",
      " Nation-Building\n",
      "Reference Works: Concepts and Definitions\n",
      "\n",
      "The concept of nation-building cannot be understood without the help of certain key concepts such as the nation, national identity, nation-state, and nationalism. The term “nation” has been defined by multiple philosophers, scholars, and practitioners. These definitions range from essentialist ones that reify certain characteristics as purely national ones (Herder 2004, Fichte 2008) to more constructivist ones highlighting collective ascription as a key element for the existence of a nation (Renan 1995, Anderson 1983). Tension exists between scholars who see the emergence of modern nations as a natural outgrowth from centuries of development and those who understand national identity as a modern social construct. Naturally, most nationalists themselves adopt a primordialist understanding of nationhood but prominent scholars also highlight the ethnic origins of modern nations (Smith 1986). Modernization scholars (Gellner 2006, Anderson 1983) and, later on, various strands of constructivists (Laitin 2007, Brubaker 1996) have pointed out the limitations of the primordialist view. The view of nations being the natural outgrowth of premodern ethnies often assumes phenotypical commonalities that do not correspond to realities on the ground. Moreover, constructivists echo Renan’s critique that shared ethnic attributes do not necessarily mean a shared national identity or imply anything about loyalty to a nation. Finally, a primordialist perspective that essentializes attributes cannot help us explain identity change (Laitin 2007) or the timing of “national awakenings.” Regardless of the definition of the nation and debates about the origins of nationalism, most scholars agree that nationalism—the “political principle which holds that the political and the national unit should be congruent” (Gellner 2006, see p. 1)—is one of the most potent ideologies in modern times. In fact, what differentiates an ethnic group from a stateless national group is the fact that the former is not motivated by a nationalist ideology, namely the belief that the world is divided into national units (“nation-states”), that the primary loyalty should be to the nation and not to the family, the kinship group, or some other local or supranational unit, accompanied by a claim to sovereignty over a territorially bounded homeland. Nationalism takes different forms depending on the position that the group making the claim to sovereignty currently occupies in relation to other groups (Hechter 2000).\n"
     ]
    }
   ],
   "source": [
    "print(f\"Artilce Title :\\n {article.title}\")\n",
    "print (article.text)"
   ]
  },
  {
   "cell_type": "code",
   "execution_count": 26,
   "id": "7911c537-a668-427f-84a0-b4986dc3aff0",
   "metadata": {},
   "outputs": [
    {
     "name": "stdout",
     "output_type": "stream",
     "text": [
      "The summary of the Article:\n",
      " Nation-Building \n",
      " --------\n",
      "Reference Works: Concepts and DefinitionsThe concept of nation-building cannot be understood without the help of certain key concepts such as the nation, national identity, nation-state, and nationalism.\n",
      "The term “nation” has been defined by multiple philosophers, scholars, and practitioners.\n",
      "Tension exists between scholars who see the emergence of modern nations as a natural outgrowth from centuries of development and those who understand national identity as a modern social construct.\n",
      "Naturally, most nationalists themselves adopt a primordialist understanding of nationhood but prominent scholars also highlight the ethnic origins of modern nations (Smith 1986).\n",
      "Moreover, constructivists echo Renan’s critique that shared ethnic attributes do not necessarily mean a shared national identity or imply anything about loyalty to a nation.\n"
     ]
    }
   ],
   "source": [
    "print (f\"The summary of the Article:\\n {article.title} \\n --------\")\n",
    "print(article.summary)"
   ]
  },
  {
   "cell_type": "code",
   "execution_count": null,
   "id": "467559a8-da02-4c4d-af8d-a392d1808d42",
   "metadata": {},
   "outputs": [],
   "source": [
    "# print(f'Article Title: \\n{article.title}')"
   ]
  },
  {
   "cell_type": "code",
   "execution_count": 1,
   "id": "cd6768a7-b391-480e-a114-81dd80317164",
   "metadata": {},
   "outputs": [],
   "source": [
    "# def text_sum(article)"
   ]
  },
  {
   "cell_type": "code",
   "execution_count": null,
   "id": "4d973d4c-a84b-4d9e-939d-0f81005760ec",
   "metadata": {},
   "outputs": [],
   "source": [
    "# Text Summarization Python helps in summarizing and shortening the text in the user feedback. It can be done with the help of an algorithm that can help in reducing the text bodies while keeping their original meaning intact or by giving insights into their original text."
   ]
  },
  {
   "cell_type": "code",
   "execution_count": null,
   "id": "88e13c13-344a-45c3-96a0-7e35eb9bb5ff",
   "metadata": {},
   "outputs": [],
   "source": [
    "# Computational properties of natural languages\n",
    "# Coreference, question answering, and machine translation\n",
    "# Processing linguistic information\n",
    "# Syntactic and semantic processing\n",
    "# Modern quantitative techniques in NLP\n",
    "# Neural network models for language understanding tasks"
   ]
  },
  {
   "cell_type": "code",
   "execution_count": null,
   "id": "01820862-4e9c-432a-881f-1943824aed08",
   "metadata": {},
   "outputs": [],
   "source": [
    "# article.text"
   ]
  },
  {
   "cell_type": "code",
   "execution_count": 15,
   "id": "468601c1-f254-41de-9f73-6742f3863642",
   "metadata": {},
   "outputs": [],
   "source": [
    "# article.summary"
   ]
  },
  {
   "cell_type": "code",
   "execution_count": 4,
   "id": "3ddaf915-0dca-40bf-a635-7e1251906dc6",
   "metadata": {},
   "outputs": [],
   "source": [
    "def tex_sum(text,per):\n",
    "    nlp = spacy.load('en_core_web_sm')\n",
    "#     text = text.strip('\\n')\n",
    "    doc = nlp(text)\n",
    "    tokens = [token.text for token in doc]\n",
    "    word_frequency = {}\n",
    "    for word in doc:\n",
    "        if word.text.lower() not in list(STOP_WORDS):\n",
    "            if word.text.lower() not in punctuation:\n",
    "                if word.text not in word_frequency.keys():\n",
    "                    word_frequency[word.text] =1\n",
    "                else:\n",
    "                    word_frequency[word.text] += 1\n",
    "    max_freq = max(word_frequency.values())\n",
    "    for word in word_frequency.keys():\n",
    "        word_frequency[word] = word_frequency[word]/max_freq\n",
    "    sent_token = [sent for sent in doc.sents]\n",
    "    sent_score = {}\n",
    "    for sent in sent_token:\n",
    "        for word in sent:\n",
    "            if word.text.lower() in word_frequency.keys():\n",
    "                if sent not in sent_score.keys():\n",
    "                    sent_score[sent] = word_frequency[word.text.lower()]\n",
    "                else:\n",
    "                    sent_score[sent] += word_frequency[word.text.lower()]\n",
    "    select_len = int(len(sent_token)*per)\n",
    "    summ = nlargest(select_len,sent_score,key= sent_score.get)\n",
    "    final_sum = [word.text for word in summ]\n",
    "    summ = ''.join(final_sum)\n",
    "    print(summ)"
   ]
  },
  {
   "cell_type": "code",
   "execution_count": 9,
   "id": "06245789-7ee1-403d-8e83-ffc75b93a92d",
   "metadata": {},
   "outputs": [],
   "source": [
    "# tex_sum(article.text,0.020)"
   ]
  },
  {
   "cell_type": "code",
   "execution_count": 10,
   "id": "4cbcbaa2-32ca-4695-88d8-11b3025eea88",
   "metadata": {},
   "outputs": [],
   "source": [
    "def summarize(text, per):\n",
    "    nlp = spacy.load('en_core_web_sm')\n",
    "    doc= nlp(text)\n",
    "    tokens=[token.text for token in doc]\n",
    "    word_frequencies={}\n",
    "    for word in doc:\n",
    "        if word.text.lower() not in list(STOP_WORDS):\n",
    "            if word.text.lower() not in punctuation:\n",
    "                if word.text not in word_frequencies.keys():\n",
    "                    word_frequencies[word.text] = 1\n",
    "                else:\n",
    "                    word_frequencies[word.text] += 1\n",
    "    max_frequency=max(word_frequencies.values())\n",
    "    for word in word_frequencies.keys():\n",
    "        word_frequencies[word]=word_frequencies[word]/max_frequency\n",
    "    sentence_tokens= [sent for sent in doc.sents]\n",
    "    sentence_scores = {}\n",
    "    for sent in sentence_tokens:\n",
    "        for word in sent:\n",
    "            if word.text.lower() in word_frequencies.keys():\n",
    "                if sent not in sentence_scores.keys():                            \n",
    "                    sentence_scores[sent]=word_frequencies[word.text.lower()]\n",
    "                else:\n",
    "                    sentence_scores[sent]+=word_frequencies[word.text.lower()]\n",
    "    select_length=int(len(sentence_tokens)*per)\n",
    "    summary=nlargest(select_length, sentence_scores,key=sentence_scores.get)\n",
    "    final_summary=[word.text for word in summary]\n",
    "    summary=''.join(final_summary)\n",
    "    return summary"
   ]
  },
  {
   "cell_type": "code",
   "execution_count": 13,
   "id": "230fba16-ee53-4969-a6ae-7a64d01b8ed5",
   "metadata": {},
   "outputs": [],
   "source": [
    "# summarize(article.text,0.09)"
   ]
  },
  {
   "cell_type": "code",
   "execution_count": 22,
   "id": "314c650a-3929-46d8-a3e9-bca1944006ac",
   "metadata": {},
   "outputs": [],
   "source": [
    "import nltk\n",
    "from nltk.corpus import stopwords\n",
    "from nltk.tokenize import word_tokenize, sent_tokenize\n",
    "import pyttsx3\n",
    "import docx"
   ]
  },
  {
   "cell_type": "code",
   "execution_count": 23,
   "id": "43e9b89c-b64b-4f6f-904c-9f7cf6ba4e1f",
   "metadata": {},
   "outputs": [
    {
     "name": "stdout",
     "output_type": "stream",
     "text": [
      "3474\n"
     ]
    }
   ],
   "source": [
    "doc = docx.Document(r\"C:\\Users\\folas\\Downloads\\personal project\\Student Community\\SP2 PDF\\One_Indian_Girl_-_Chetan_Bhagat-Redicals.docx\")\n",
    "all_para = doc.paragraphs\n",
    "print(len(all_para))\n",
    "for para in all_para:\n",
    "    text = para.text\n",
    "    stop_word = set(stopwords.words('english'))\n",
    "    words = word_tokenize(text)\n",
    "#     print(words)\n",
    "#     print(text)\n"
   ]
  },
  {
   "cell_type": "code",
   "execution_count": 25,
   "id": "31aa225e-193b-476b-a3ff-b4fe5244356d",
   "metadata": {},
   "outputs": [],
   "source": [
    "import docx\n",
    "\n",
    "doc = docx.Document(r\"C:\\Users\\folas\\Downloads\\personal project\\Student Community\\SP2 PDF\\One_Indian_Girl_-_Chetan_Bhagat-Redicals.docx\")\n",
    "all_para = doc.paragraphs\n",
    "all_para\n",
    "for para in all_para:\n",
    "    text = para.text\n",
    "    stop_word = set(stopwords.words('english'))\n",
    "    words = word_tokenize(text)\n",
    "#     print(words)\n",
    "    frequency_table = dict()\n",
    "    for word in words:\n",
    "        word = word.lower()\n",
    "        if word in stop_word:     \n",
    "            continue\n",
    "        if word in frequency_table:\n",
    "            frequency_table[word] += 1\n",
    "        else:\n",
    "            frequency_table[word] = 1\n",
    "\n",
    "    sentence = sent_tokenize(text)\n",
    "    sentence_value = dict()\n",
    "\n",
    "    for sent in sentence:\n",
    "        for word,freq in frequency_table.items():\n",
    "            if word in sent.lower():\n",
    "                if sent in sentence_value:\n",
    "                    sentence_value[sent] += freq\n",
    "                else:\n",
    "                    sentence_value[sent] = freq\n",
    "\n",
    "                \n",
    "    sum_value = 0\n",
    "    for sent in sentence_value:\n",
    "        sum_value += sentence_value[sent]\n",
    "#         print(sum_value)\n",
    "\n",
    "#     print(sum_value)\n",
    "    \n",
    "        aver_value = int(sum_value/len(sentence_value))\n",
    "#     print(aver_value)\n",
    "\n",
    "    summ = ' '\n",
    "    for sent in sentence:\n",
    "        if (sent in sentence_value) and (sentence_value[sent] > (1.2 * aver_value)):\n",
    "            summ += ' ' + sent\n",
    "#             word = summ\n",
    "#     print(summ)\n",
    "    \n",
    "#     print(summ)\n"
   ]
  },
  {
   "cell_type": "code",
   "execution_count": null,
   "id": "cd58ee04-c0ad-464e-a17b-b94b299bb5e2",
   "metadata": {},
   "outputs": [],
   "source": [
    "print(len(summ))"
   ]
  },
  {
   "cell_type": "code",
   "execution_count": null,
   "id": "619e0333-88da-498b-9069-409fcfd4e14e",
   "metadata": {},
   "outputs": [],
   "source": [
    "word = para.text"
   ]
  },
  {
   "cell_type": "code",
   "execution_count": 26,
   "id": "7155f1a8-5450-4c0c-88ac-a533756e65fc",
   "metadata": {},
   "outputs": [],
   "source": [
    "text = article.text\n",
    "stop_word = set(stopwords.words('english'))\n",
    "words = word_tokenize(text)"
   ]
  },
  {
   "cell_type": "code",
   "execution_count": 27,
   "id": "2534c981-42c3-4a63-8d3c-037371756278",
   "metadata": {},
   "outputs": [],
   "source": [
    "frequency_table = dict()\n",
    "for word in words:\n",
    "    word = word.lower()\n",
    "    if word in stop_word:\n",
    "        continue\n",
    "#     print(word)\n",
    "    if word in frequency_table:\n",
    "        frequency_table[word] += 1\n",
    "    else:\n",
    "        frequency_table[word] = 1\n",
    "# print(frequency_table)\n",
    "\n",
    "sentence = sent_tokenize(text)\n",
    "sentence_value = dict()\n",
    "# print(sentence)"
   ]
  },
  {
   "cell_type": "code",
   "execution_count": 28,
   "id": "40e5ad9a-8a73-48da-9e5f-2a83165fc6ed",
   "metadata": {},
   "outputs": [
    {
     "name": "stdout",
     "output_type": "stream",
     "text": [
      "  Building an evidence- and rights-based approach to healthy decision-making\n",
      "\n",
      "As they grow up, young people face important decisions about relationships, sexuality, and sexual behavior. Young people have the right to lead healthy lives, and society has the responsibility to prepare youth by providing them with comprehensive sexual health education that gives them the tools they need to make healthy decisions. Sex education is the provision of information about bodily development, sex, sexuality, and relationships, along with skills-building to help young people communicate about and make informed decisions regarding sex and their sexual health. Sex education should be informed by evidence of what works best to prevent unintended pregnancy and sexually transmitted infections, but it should also respect young people’s right to complete and honest information. Each year in the United States, about 750,000 teens become pregnant, with up to 82 percent of those pregnancies being unintended. [1,2] Young people ages 15-24 account for 25 percent of all new HIV infections in the U.S.[3] and make up almost one-half of the over 19 million new STD infections Americans acquire each year.4 Sex education teaches young people the skills they need to protect themselves. Each year in the United States, about 750,000 teens become pregnant, with up to 82 percent of those pregnancies being unintended. [1,2] Young people ages 15-24 account for 25 percent of all new HIV infections in the U.S.[3] and make up almost one-half of the over 19 million new STD infections Americans acquire each year.4 Sex education teaches young people the skills they need to protect themselves. Learning to freely discuss contraception and condoms, as well as activities they are not ready for, protects young people’s health throughout their lives. Comprehensive sexual health education teaches abstinence as the only 100 percent effective method of preventing HIV, STIs, and unintended pregnancy – and as a valid choice which everyone has the right to make. Dozens of sex education programs have been proven effective at helping young people delay sex or have sex less often. Learning to freely discuss contraception and condoms, as well as activities they are not ready for, protects young people’s health throughout their lives. Comprehensive sexual health education teaches abstinence as the only 100 percent effective method of preventing HIV, STIs, and unintended pregnancy – and as a valid choice which everyone has the right to make. Dozens of sex education programs have been proven effective at helping young people delay sex or have sex less often. Maintaining a healthy relationship requires skills many young people are never taught – like positive communication, conflict management, and negotiating decisions around sexual activity. A lack of these skills can lead to unhealthy and even violent relationships among youth: one in 10 high school students has experienced physical violence from a dating partner in the past year. [6] Sex education should include understanding and identifying healthy and unhealthy relationship patterns; effective ways to communicate relationship needs and manage conflict; and strategies to avoid or end an unhealthy relationship. [7]\n",
      "\n",
      "Maintaining a healthy relationship requires skills many young people are never taught – like positive communication, conflict management, and negotiating decisions around sexual activity. A lack of these skills can lead to unhealthy and even violent relationships among youth: one in 10 high school students has experienced physical violence from a dating partner in the past year. [6] Sex education should include understanding and identifying healthy and unhealthy relationship patterns; effective ways to communicate relationship needs and manage conflict; and strategies to avoid or end an unhealthy relationship. Comprehensive sexual health education teaches not only the basics of puberty and development, but also instills in young people that they have the right to decide what behaviors they engage in and to say no to unwanted sexual activity. Furthermore, sex education helps young people to examine the forces that contribute to a positive or negative body image. Comprehensive sexual health education teaches not only the basics of puberty and development, but also instills in young people that they have the right to decide what behaviors they engage in and to say no to unwanted sexual activity. Furthermore, sex education helps young people to examine the forces that contribute to a positive or negative body image. Eight percent of high school students have been forced to have intercourse[8], while one in ten students say they have committed sexual violence. [9] Good sex education teaches young people what constitutes sexual violence, that sexual violence is wrong, and how to find help if they have been assaulted. Eight percent of high school students have been forced to have intercourse[8], while one in ten students say they have committed sexual violence. [9] Good sex education teaches young people what constitutes sexual violence, that sexual violence is wrong, and how to find help if they have been assaulted. Among LGBT students, 82 percent have experienced harassment due to the sexual orientation, and 38 percent have experienced physical harassment. Among LGBT students, 82 percent have experienced harassment due to the sexual orientation, and 38 percent have experienced physical harassment. Research has repeatedly found that sex education which provides accurate, complete, and developmentally appropriate information on human sexuality, including risk-reduction strategies and contraception helps young people take steps to protect their health, including delaying sex, using condoms or contraception, and being monogamous. [5] A 2012 study that examined 66 comprehensive sexual risk reduction programs found them to be an effective public health strategy to reduce adolescent pregnancy, HIV, and STIs. [12] Research from the National Survey of Family Growth assessed the impact of sexuality education on youth sexual risk-taking for young people ages 15-19 and found that teens who received comprehensive sex education were 50 percent less likely to experience pregnancy than those who received abstinence-only-until-marriage programs. [13] Even accounting for differences in household income and education, states which teach sex education and/or HIV education that covers abstinence as well as contraception, tend to have the lowest pregnancy rates. [14]\n",
      "\n",
      "Research has repeatedly found that sex education which provides accurate, complete, and developmentally appropriate information on human sexuality, including risk-reduction strategies and contraception helps young people take steps to protect their health, including delaying sex, using condoms or contraception, and being monogamous. The National Sexuality Education Standards, developed by experts in the public health and sexuality education field and heavily influenced by the National Health Education Standards, provide guidance about the minimum essential content and skills needed to help students make informed decisions about sexual health.15 The standards focus on seven topics as the minimum, essential content and skills for K–12 education: Anatomy and Physiology, Puberty and Adolescent Development, Identity, Pregnancy and Reproduction, Sexually Transmitted Diseases and HIV, Healthy Relationships, and Personal Safety. Topics are presented using performance indicators—what students should learn by the end of grades 2, 5, 8, and 12. [16] Schools which are developing comprehensive sexual health education programs should consult the National Sexuality Education Standards to provide students with the information and skills they need to develop into healthy adults. The National Sexuality Education Standards, developed by experts in the public health and sexuality education field and heavily influenced by the National Health Education Standards, provide guidance about the minimum essential content and skills needed to help students make informed decisions about sexual health.15 The standards focus on seven topics as the minimum, essential content and skills for K–12 education: Anatomy and Physiology, Puberty and Adolescent Development, Identity, Pregnancy and Reproduction, Sexually Transmitted Diseases and HIV, Healthy Relationships, and Personal Safety. Topics are presented using performance indicators—what students should learn by the end of grades 2, 5, 8, and 12. [16] Schools which are developing comprehensive sexual health education programs should consult the National Sexuality Education Standards to provide students with the information and skills they need to develop into healthy adults. To do the latter, these programs should be provided in an after school setting. Researchers have identified dozens of EBIs where participants showed statistically significant declines in teen pregnancy, HIV, or other STIs. Science and Success:Programs that Work to Prevent Teen Pregnancy, HIV, and Sexually Transmitted Infections (Advocates for Youth, 2012): Advocates for Youth undertook exhaustive reviews of existing programs that work to prevent teen pregnancy, HIV, and STIs and compiled a list of programs that have been proven effective by rigorous evaluation. Two-thirds of the 48 comprehensive sex education programs studied had positive effects:[17] 40 percent delayed sexual initiation, reduced number of sexual partners, or increased condom or contraceptive use; 30 percent reduced the frequency of sex, including return to abstinence; and 60 percent reduced unprotected sex. Thirty-one programs meet the OAH’s effectiveness criteria and that were found to be effective at preventing teen pregnancies or births, reducing sexually transmitted infections, or reducing rates of associated sexual risk behaviors (defined by sexual activity, contraceptive use, or number of partners). To do the latter, these programs should be provided in an after school setting. Researchers have identified dozens of EBIs where participants showed statistically significant declines in teen pregnancy, HIV, or other STIs. These programs:\n",
      "\n",
      "Depict abstinence until heterosexual marriage as the only moral choice for young people\n",
      "\n",
      "Mention contraception only in terms of failure rates\n",
      "\n",
      "Focus on heterosexual youth, ignoring the needs of LGBTQ youth\n",
      "\n",
      "Often use outdated gender roles, urging “modesty” for all girls while painting all boys as sexual aggressors. [19]\n",
      "\n",
      "Only one abstinence-only program has ever been proven effective at helping young people delay sex; yet in withholding information about contraception, it leaves those who do have sex completely at risk. Studies show that 99 percent of people will use contraception in their lifetimes,[20] and that the provision of information about contraception does not hasten the onset of sexual debut or increase sexual activity. [10] Meanwhile, thirty years of public health research clearly demonstrate that comprehensive sex education can help young people delay sexual initiation while also assisting them to use protection when they do become sexually active. We want young people to behave responsibly when it comes to decisions about sexual health, and that means society has the responsibility to provide them with honest, age-appropriate comprehensive sexual health education; access to services to prevent pregnancy and sexually transmitted infections; and the resources to help them lead healthy lives. All young people need comprehensive sexual health education, while others also need sexual health services. This amendment states that “the powers not delegated to the United States by the Constitution, nor prohibited by it to the States, are reserved to the States respectively, or to the people.”[3] Because the Constitution doesn’t specifically mention education, the federal government does not have any direct authority regarding curriculum, instruction, administration, personnel, etc. However, there have been federal funds allocated, primarily through the Department of Health and Human Services that school systems and community-based agencies have used throughout the last three decades to provide various forms of sex education. [21]\n",
      "\n",
      "Federal funding: Until FY2010, there was no designated funding for a comprehensive approach to sex education. PREP provides grants ($75 million over five years) for programs which teach about both abstinence and contraception in order to help young people reduce their risk for unintended pregnancy, HIV, and STIs. All programs implemented with PREP funding are to educate adolescents about both abstinence and contraception for the prevention of pregnancy and STIs, including HIV/AIDS, and must cover at least three adulthood preparation subjects such as healthy relationships, adolescent development, financial literacy, educational and career success, and healthy life skills. In addition, in 2013, CDC/Division of School Health issued a request for proposals to fund State Education Agencies (SEAs) and Large Municipal Education Agencies (LEAs) to implement Exemplary Sexual Health Education (ESHE). ESHE is defined as a systematic, evidence-informed approach to sexual health education that includes the use of grade-specific, evidence-based interventions, but also emphasizes sequential learning across elementary, middle, and high school grade levels. [22]\n",
      "\n",
      "The Real Education for Healthy Youth Act: While there is as yet no law that supports comprehensive sexual health education, there is pending legislation. The Real Education for Healthy Youth Act (S. 372/H.R. 725), introduced in February 2013 by the late Senator Frank Lautenberg (D-NJ) and Representative Barbara Lee (D-CA), would ensure that federal funding is allocated to comprehensive sexual health education programs that provide young people with the skills and information they need to make informed, responsible, and healthy decisions. This legislation sets forth a vision for comprehensive sexual health education programs in the United States. While there is as yet no law that supports comprehensive sexual health education, there is pending legislation. The Real Education for Healthy Youth Act (S. 372/H.R. 725), introduced in February 2013 by the late Senator Frank Lautenberg (D-NJ) and Representative Barbara Lee (D-CA), would ensure that federal funding is allocated to comprehensive sexual health education programs that provide young people with the skills and information they need to make informed, responsible, and healthy decisions. This legislation sets forth a vision for comprehensive sexual health education programs in the United States. State policy on sex education can vary widely. As of 2012, 30 states have no law that governs sex education, and schools are not required to provide it 25 states mandate that sex education, if taught, must include abstinence, but do not require it to include contraception. State policy on sex education can vary widely. For instance, Connecticut and New Jersey have standards similar to the National Sexuality Education Standards in place and which address reproduction, prevention of STIs and pregnancy, and healthy relationships. A number of other states have general health education standards which do not directly address sexual health, while others make mention of HIV/STI prevention and abstinence but don’t demand the most thorough instruction in sexual health. The balance between responsibility and rights is critical because it sets behavioral expectations and builds trust while providing young people with the knowledge, ability, and comfort to manage their sexual health throughout life in a thoughtful, empowered and responsible way. Finer LB et al., Disparities in rates of unintended pregnancy in the United States, 1994 and 2001, Perspectives on Sexual and Reproductive Health, 2006, 38(2):90–96. Centers for Disease Control and Prevention. Centers for Disease Control and Prevention. Science and Success: Sex Education and Other Programs that Work to Prevent Teen Pregnancy, HIV & Sexually Transmitted Infections. National Sexual Education Standards: Core Content and Skills, K-12. A Special Publication of the Journal of School Health. 2012: 6-9. http://www.futureofsexed.org/documents/josh-fose-standards-web.pdf. Accessed October 2, 2013. Atlanta, GA: CDC, (2010); http://www.cdc.gov/HealthyYouth/ health_and_academics/pdf/sexual_risk_behaviors.pdf; last accessed 5/23/2010. “The effectiveness of group-based comprehensive risk-reduction and abstinence education interventions to prevent or reduce the risk of adolescent pregnancy, human immunodeficiency virus, and sexually transmitted infections: two systematic reviews for the Guide to Community Preventive Services.” American Journal of Preventive Medicine, March 2012. National Sexual Education Standards: Core Content and Skills, K-12. A Special Publication of the Journal of School Health. 2012: 6-9. http://www.futureofsexed.org/documents/josh-fose-standards-web.pdf. Accessed October 2, 2013. National Sexual Education Standards: Core Content and Skills, K-12. A Special Publication of the Journal of School Health. 2012: 6-9. http://www.futureofsexed.org/documents/josh-fose-standards-web.pdf. Accessed October 2, 2013. Sexuality Information and Education Council of the United States, Siecus State Profiles, Fiscal Year 2012. Centers for Disease Control and Prevention. Accessed from http://www.cdc.gov/healthyyouth/fundedpartners/1308/strategies/education.htm on May 13, 2014.\n"
     ]
    }
   ],
   "source": [
    "for sent in sentence:\n",
    "    for word,freq in frequency_table.items():\n",
    "        if word in sent.lower():\n",
    "            if sent in sentence_value:\n",
    "                sentence_value[sent] += freq\n",
    "            else:\n",
    "                sentence_value[sent] = freq\n",
    "# print(sentence_value)\n",
    "# print(len(sentence_value))\n",
    "sum_value = 0\n",
    "for sent in sentence_value:\n",
    "    sum_value += sentence_value[sent]\n",
    "# print(sum_value)\n",
    "\n",
    "    \n",
    "aver_value = int(sum_value/len(sentence_value))\n",
    "# print(aver_value)\n",
    "\n",
    "summ = ' '\n",
    "for sent in sentence:\n",
    "    if (sent in sentence_value) and (sentence_value[sent] > (1.2 * aver_value)):\n",
    "        summ += ' ' + sent\n",
    "# engine = pyttsx3.init()\n",
    "# speak = summ\n",
    "# voices = engine.getProperty('voices')\n",
    "# engine.setProperty('voice', voices[1].id)\n",
    "# engine.say(speak)\n",
    "# engine.runAndWait()\n",
    "print(summ)\n",
    "    "
   ]
  }
 ],
 "metadata": {
  "kernelspec": {
   "display_name": "Python 3 (ipykernel)",
   "language": "python",
   "name": "python3"
  },
  "language_info": {
   "codemirror_mode": {
    "name": "ipython",
    "version": 3
   },
   "file_extension": ".py",
   "mimetype": "text/x-python",
   "name": "python",
   "nbconvert_exporter": "python",
   "pygments_lexer": "ipython3",
   "version": "3.8.8"
  }
 },
 "nbformat": 4,
 "nbformat_minor": 5
}
